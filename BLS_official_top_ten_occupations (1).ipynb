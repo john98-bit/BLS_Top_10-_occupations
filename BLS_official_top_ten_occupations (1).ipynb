{
 "cells": [
  {
   "cell_type": "markdown",
   "id": "a532e195-30a2-4938-a87d-87f9e7db0e17",
   "metadata": {},
   "source": [
    "# This dashboard provides the top 10 state occupations using the BLS 2023 Occupational Employment and Wage Statistics Dataset\n",
    "## Simply enter your state of choice and get acess to the dashboard"
   ]
  },
  {
   "cell_type": "code",
   "execution_count": 51,
   "id": "54b80efb-055a-4ce2-a0f8-949f03f4d160",
   "metadata": {},
   "outputs": [
    {
     "data": {
      "text/html": [
       "\n",
       "        <iframe\n",
       "            width=\"100%\"\n",
       "            height=\"650\"\n",
       "            src=\"http://127.0.0.1:10/\"\n",
       "            frameborder=\"0\"\n",
       "            allowfullscreen\n",
       "            \n",
       "        ></iframe>\n",
       "        "
      ],
      "text/plain": [
       "<IPython.lib.display.IFrame at 0x24f7a782a20>"
      ]
     },
     "metadata": {},
     "output_type": "display_data"
    }
   ],
   "source": [
    "import dash\n",
    "from dash import dcc, html, Input, Output\n",
    "import psycopg2\n",
    "import pandas as pd\n",
    "import plotly.express as px\n",
    "\n",
    "# Database connection details\n",
    "db_connection = {\n",
    "    \"host\": \"localhost\",\n",
    "    \"dbname\": \"BLS_HCC_Project\",\n",
    "    \"port\": \"5432\",\n",
    "    \"user\": \"postgres\",\n",
    "    \"password\": \"5432\"\n",
    "}\n",
    "\n",
    "# Function to fetch data for top occupations with mean annual wage\n",
    "def get_top_occupations(state):\n",
    "    # Properly insert the state input into the query\n",
    "    query = '''\n",
    "    SELECT \"occupational_title\", MAX(\"mean_annual_wage\") AS \"mean_annual_wage\"\n",
    "    FROM \"2023_State_Occupational_Employment_and_Wage_Statistics\"\n",
    "    WHERE \"area_title\" = %s AND \"mean_annual_wage\" IS NOT NULL\n",
    "    GROUP BY \"occupational_title\"\n",
    "    ORDER BY \"mean_annual_wage\" DESC\n",
    "    LIMIT 10; '''\n",
    "\n",
    "    try:\n",
    "        # Connect to the database\n",
    "        conn = psycopg2.connect(**db_connection)\n",
    "        \n",
    "        # Fetch data into a DataFrame\n",
    "        df = pd.read_sql_query(query, conn, params=(state,))\n",
    "        conn.close()\n",
    "\n",
    "        # Ensure the data is numeric and handle any conversion errors\n",
    "        df['mean_annual_wage'] = pd.to_numeric(df['mean_annual_wage'], errors='coerce')\n",
    "\n",
    "        return df\n",
    "    except Exception as e:\n",
    "        print(f\"Error fetching occupations for {state}: {e}\")\n",
    "        return pd.DataFrame()\n",
    "\n",
    "# Initialize Dash app\n",
    "app = dash.Dash(__name__)\n",
    "\n",
    "# Layout\n",
    "app.layout = html.Div([\n",
    "    html.H1(\"Top 10 Occupations in Your State\", style={'color': 'orange'}),\n",
    "    \n",
    "    # Input field for state\n",
    "    dcc.Input(id='state-input', type='text', placeholder='Enter state name', style={'width': '50%', 'margin-bottom': '20px'}),\n",
    "    \n",
    "    # Graph for bar chart\n",
    "    dcc.Graph(id='occupation-chart')\n",
    "])\n",
    "\n",
    "# Callback for bar chart\n",
    "@app.callback(\n",
    "    Output('occupation-chart', 'figure'),\n",
    "    [Input('state-input', 'value')]\n",
    ")\n",
    "def update_chart(selected_state):\n",
    "    if not selected_state:\n",
    "        return px.bar(title=\"Please enter a state name to get data. Example: Arkansas\")\n",
    "    \n",
    "    selected_state = selected_state.strip().title()  # Normalize input\n",
    "    df = get_top_occupations(selected_state)\n",
    "    \n",
    "    if df.empty:\n",
    "        print(f\"No data found for state: {selected_state}\")  # Log empty data\n",
    "        return px.bar(title=\"No data found for the selected state. Check input.\")\n",
    "    \n",
    "    # Create a bar chart using the fetched data\n",
    "    fig = px.bar(\n",
    "        df,\n",
    "        x='occupational_title',\n",
    "        y='mean_annual_wage',\n",
    "        title=f\"Top 10 Occupations in {selected_state} in 2023\",\n",
    "        labels={'mean_annual_wage': 'Mean Annual Wage', 'occupational_title': 'Occupation'},\n",
    "        text='mean_annual_wage',\n",
    "        height=650)\n",
    "    fig.update_traces(texttemplate='%{text:.2f}', textposition='outside')\n",
    "    fig.update_layout(margin=dict(b=160))\n",
    "    return fig\n",
    "# Run the app\n",
    "if __name__ == '__main__':\n",
    "    app.run_server(host='127.0.0.1', port=10 , debug=True) #or app.run_server ?????????????????????????????????????????????????????????????????/\n"
   ]
  },
  {
   "cell_type": "code",
   "execution_count": null,
   "id": "27de17a3-2c7a-4774-8c51-dc15e220ccc5",
   "metadata": {},
   "outputs": [],
   "source": []
  }
 ],
 "metadata": {
  "kernelspec": {
   "display_name": "Python 3 (ipykernel)",
   "language": "python",
   "name": "python3"
  },
  "language_info": {
   "codemirror_mode": {
    "name": "ipython",
    "version": 3
   },
   "file_extension": ".py",
   "mimetype": "text/x-python",
   "name": "python",
   "nbconvert_exporter": "python",
   "pygments_lexer": "ipython3",
   "version": "3.12.4"
  }
 },
 "nbformat": 4,
 "nbformat_minor": 5
}
